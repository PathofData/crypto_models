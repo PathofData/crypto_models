{
 "cells": [
  {
   "cell_type": "code",
   "execution_count": 1,
   "metadata": {},
   "outputs": [
    {
     "name": "stdout",
     "output_type": "stream",
     "text": [
      "\u001b[33mWARNING: You are using pip version 20.1.1; however, version 21.1 is available.\r\n",
      "You should consider upgrading via the '/usr/bin/python3 -m pip install --upgrade pip' command.\u001b[0m\r\n"
     ]
    }
   ],
   "source": [
    "!pip install -q ccxt statsmodels ta"
   ]
  },
  {
   "cell_type": "code",
   "execution_count": 2,
   "metadata": {
    "scrolled": false
   },
   "outputs": [],
   "source": [
    "import numpy as np\n",
    "import pandas as pd\n",
    "from crypto_modules import fetch_ohlc, preprocess_ohlcv_data, predict_classifier"
   ]
  },
  {
   "cell_type": "code",
   "execution_count": 6,
   "metadata": {},
   "outputs": [
    {
     "name": "stdout",
     "output_type": "stream",
     "text": [
      "Warning call 2 has packet loss:\n",
      "Expected 288 packets but 232 were received.\n",
      "Warning call 3 has packet loss:\n",
      "Expected 288 packets but 99 were received.\n"
     ]
    }
   ],
   "source": [
    "df = fetch_ohlc(coin_name='BTC/USDT', date_since='2021-04-24')"
   ]
  },
  {
   "cell_type": "code",
   "execution_count": 7,
   "metadata": {},
   "outputs": [
    {
     "data": {
      "text/html": [
       "<div>\n",
       "<style scoped>\n",
       "    .dataframe tbody tr th:only-of-type {\n",
       "        vertical-align: middle;\n",
       "    }\n",
       "\n",
       "    .dataframe tbody tr th {\n",
       "        vertical-align: top;\n",
       "    }\n",
       "\n",
       "    .dataframe thead th {\n",
       "        text-align: right;\n",
       "    }\n",
       "</style>\n",
       "<table border=\"1\" class=\"dataframe\">\n",
       "  <thead>\n",
       "    <tr style=\"text-align: right;\">\n",
       "      <th></th>\n",
       "      <th>Open</th>\n",
       "      <th>High</th>\n",
       "      <th>Low</th>\n",
       "      <th>Close</th>\n",
       "      <th>Volume</th>\n",
       "    </tr>\n",
       "    <tr>\n",
       "      <th>date</th>\n",
       "      <th></th>\n",
       "      <th></th>\n",
       "      <th></th>\n",
       "      <th></th>\n",
       "      <th></th>\n",
       "    </tr>\n",
       "  </thead>\n",
       "  <tbody>\n",
       "    <tr>\n",
       "      <th>2021-04-24 00:00:00</th>\n",
       "      <td>51110.56</td>\n",
       "      <td>51166.22</td>\n",
       "      <td>50765.30</td>\n",
       "      <td>50806.54</td>\n",
       "      <td>411.819758</td>\n",
       "    </tr>\n",
       "    <tr>\n",
       "      <th>2021-04-24 00:05:00</th>\n",
       "      <td>50806.54</td>\n",
       "      <td>50879.13</td>\n",
       "      <td>50648.49</td>\n",
       "      <td>50675.00</td>\n",
       "      <td>239.939246</td>\n",
       "    </tr>\n",
       "    <tr>\n",
       "      <th>2021-04-24 00:10:00</th>\n",
       "      <td>50675.00</td>\n",
       "      <td>50878.18</td>\n",
       "      <td>50445.57</td>\n",
       "      <td>50766.81</td>\n",
       "      <td>341.664066</td>\n",
       "    </tr>\n",
       "    <tr>\n",
       "      <th>2021-04-24 00:15:00</th>\n",
       "      <td>50766.82</td>\n",
       "      <td>50771.48</td>\n",
       "      <td>50457.20</td>\n",
       "      <td>50470.00</td>\n",
       "      <td>173.507136</td>\n",
       "    </tr>\n",
       "    <tr>\n",
       "      <th>2021-04-24 00:20:00</th>\n",
       "      <td>50470.01</td>\n",
       "      <td>50545.48</td>\n",
       "      <td>50300.00</td>\n",
       "      <td>50435.29</td>\n",
       "      <td>282.530450</td>\n",
       "    </tr>\n",
       "    <tr>\n",
       "      <th>...</th>\n",
       "      <td>...</td>\n",
       "      <td>...</td>\n",
       "      <td>...</td>\n",
       "      <td>...</td>\n",
       "      <td>...</td>\n",
       "    </tr>\n",
       "    <tr>\n",
       "      <th>2021-04-26 07:50:00</th>\n",
       "      <td>52891.36</td>\n",
       "      <td>52891.37</td>\n",
       "      <td>52755.11</td>\n",
       "      <td>52766.75</td>\n",
       "      <td>301.919121</td>\n",
       "    </tr>\n",
       "    <tr>\n",
       "      <th>2021-04-26 07:55:00</th>\n",
       "      <td>52766.75</td>\n",
       "      <td>52882.83</td>\n",
       "      <td>52700.00</td>\n",
       "      <td>52801.37</td>\n",
       "      <td>258.541683</td>\n",
       "    </tr>\n",
       "    <tr>\n",
       "      <th>2021-04-26 08:00:00</th>\n",
       "      <td>52801.37</td>\n",
       "      <td>52981.07</td>\n",
       "      <td>52650.71</td>\n",
       "      <td>52654.09</td>\n",
       "      <td>436.157064</td>\n",
       "    </tr>\n",
       "    <tr>\n",
       "      <th>2021-04-26 08:05:00</th>\n",
       "      <td>52654.10</td>\n",
       "      <td>52765.35</td>\n",
       "      <td>52606.06</td>\n",
       "      <td>52634.88</td>\n",
       "      <td>230.816683</td>\n",
       "    </tr>\n",
       "    <tr>\n",
       "      <th>2021-04-26 08:10:00</th>\n",
       "      <td>52634.87</td>\n",
       "      <td>52700.00</td>\n",
       "      <td>52631.27</td>\n",
       "      <td>52680.27</td>\n",
       "      <td>65.315794</td>\n",
       "    </tr>\n",
       "  </tbody>\n",
       "</table>\n",
       "<p>619 rows × 5 columns</p>\n",
       "</div>"
      ],
      "text/plain": [
       "                         Open      High       Low     Close      Volume\n",
       "date                                                                   \n",
       "2021-04-24 00:00:00  51110.56  51166.22  50765.30  50806.54  411.819758\n",
       "2021-04-24 00:05:00  50806.54  50879.13  50648.49  50675.00  239.939246\n",
       "2021-04-24 00:10:00  50675.00  50878.18  50445.57  50766.81  341.664066\n",
       "2021-04-24 00:15:00  50766.82  50771.48  50457.20  50470.00  173.507136\n",
       "2021-04-24 00:20:00  50470.01  50545.48  50300.00  50435.29  282.530450\n",
       "...                       ...       ...       ...       ...         ...\n",
       "2021-04-26 07:50:00  52891.36  52891.37  52755.11  52766.75  301.919121\n",
       "2021-04-26 07:55:00  52766.75  52882.83  52700.00  52801.37  258.541683\n",
       "2021-04-26 08:00:00  52801.37  52981.07  52650.71  52654.09  436.157064\n",
       "2021-04-26 08:05:00  52654.10  52765.35  52606.06  52634.88  230.816683\n",
       "2021-04-26 08:10:00  52634.87  52700.00  52631.27  52680.27   65.315794\n",
       "\n",
       "[619 rows x 5 columns]"
      ]
     },
     "execution_count": 7,
     "metadata": {},
     "output_type": "execute_result"
    }
   ],
   "source": [
    "df[0]"
   ]
  },
  {
   "cell_type": "code",
   "execution_count": 10,
   "metadata": {},
   "outputs": [],
   "source": [
    "df = (df[0]\n",
    "                .resample(rule='5min')\n",
    "                .asfreq()\n",
    "                .interpolate(method='time', limit=None))"
   ]
  },
  {
   "cell_type": "code",
   "execution_count": 12,
   "metadata": {},
   "outputs": [
    {
     "data": {
      "text/plain": [
       "<AxesSubplot:xlabel='date'>"
      ]
     },
     "execution_count": 12,
     "metadata": {},
     "output_type": "execute_result"
    },
    {
     "data": {
      "image/png": "[encoded data removed]",
      "text/plain": [
       "<Figure size 432x288 with 1 Axes>"
      ]
     },
     "metadata": {
      "needs_background": "light"
     },
     "output_type": "display_data"
    }
   ],
   "source": [
    "df.iloc[-288:, ].plot()"
   ]
  },
  {
   "cell_type": "code",
   "execution_count": 8,
   "metadata": {},
   "outputs": [],
   "source": [
    "df[0].to_csv('test_data.csv')"
   ]
  },
  {
   "cell_type": "code",
   "execution_count": 13,
   "metadata": {
    "scrolled": true
   },
   "outputs": [
    {
     "name": "stderr",
     "output_type": "stream",
     "text": [
      "/usr/local/lib/python3.6/dist-packages/ta/trend.py:768: RuntimeWarning: invalid value encountered in double_scalars\n",
      "  dip[i] = 100 * (self._dip[i] / self._trs[i])\n",
      "/usr/local/lib/python3.6/dist-packages/ta/trend.py:772: RuntimeWarning: invalid value encountered in double_scalars\n",
      "  din[i] = 100 * (self._din[i] / self._trs[i])\n"
     ]
    }
   ],
   "source": [
    "# df = pd.read_csv('data/btc_2021-04-01_2021-04-23_5m.csv', index_col=['date'], parse_dates=['date'])\n",
    "# df = df.iloc[-288:, :]\n",
    "# df = pd.concat([df, df],axis=0)\n",
    "pre_df = preprocess_ohlcv_data(raw_data=df.iloc[-288:, ], scale_fn='saved_models/column_scale_v1.joblib')"
   ]
  },
  {
   "cell_type": "code",
   "execution_count": 14,
   "metadata": {},
   "outputs": [],
   "source": [
    "prediction = predict_classifier(preprocessed_data=pre_df, feature_names_path='saved_models/feature_list_v9.joblib', model_path='saved_models/classification_model_BTC_v9.joblib')"
   ]
  },
  {
   "cell_type": "code",
   "execution_count": 15,
   "metadata": {},
   "outputs": [
    {
     "data": {
      "text/plain": [
       "0.9789220404139266"
      ]
     },
     "execution_count": 15,
     "metadata": {},
     "output_type": "execute_result"
    }
   ],
   "source": [
    "prediction[0]"
   ]
  },
  {
   "cell_type": "code",
   "execution_count": 7,
   "metadata": {},
   "outputs": [
    {
     "data": {
      "text/plain": [
       "array([0.01225413])"
      ]
     },
     "execution_count": 7,
     "metadata": {},
     "output_type": "execute_result"
    }
   ],
   "source": [
    "(prediction[:] - 0.5) / 0.5"
   ]
  },
  {
   "cell_type": "code",
   "execution_count": 31,
   "metadata": {},
   "outputs": [
    {
     "data": {
      "text/plain": [
       "-0.06000000000000005"
      ]
     },
     "execution_count": 31,
     "metadata": {},
     "output_type": "execute_result"
    }
   ],
   "source": [
    "(0.47 - 0.5) / 0.5"
   ]
  },
  {
   "cell_type": "code",
   "execution_count": 1,
   "metadata": {},
   "outputs": [
    {
     "name": "stdout",
     "output_type": "stream",
     "text": [
      "2021-03-16 15:12:56: Model Prediction: 0.3623044553011287.\r\n"
     ]
    }
   ],
   "source": [
    "!python crypto_predictions.py"
   ]
  },
  {
   "cell_type": "code",
   "execution_count": 17,
   "metadata": {},
   "outputs": [
    {
     "data": {
      "text/html": [
       "<div>\n",
       "<style scoped>\n",
       "    .dataframe tbody tr th:only-of-type {\n",
       "        vertical-align: middle;\n",
       "    }\n",
       "\n",
       "    .dataframe tbody tr th {\n",
       "        vertical-align: top;\n",
       "    }\n",
       "\n",
       "    .dataframe thead th {\n",
       "        text-align: right;\n",
       "    }\n",
       "</style>\n",
       "<table border=\"1\" class=\"dataframe\">\n",
       "  <thead>\n",
       "    <tr style=\"text-align: right;\">\n",
       "      <th></th>\n",
       "      <th>ts</th>\n",
       "      <th>m</th>\n",
       "      <th>p</th>\n",
       "    </tr>\n",
       "  </thead>\n",
       "  <tbody>\n",
       "    <tr>\n",
       "      <th>0</th>\n",
       "      <td>2021-03-17 12:24:30.829454</td>\n",
       "      <td>123</td>\n",
       "      <td>1</td>\n",
       "    </tr>\n",
       "  </tbody>\n",
       "</table>\n",
       "</div>"
      ],
      "text/plain": [
       "                          ts    m  p\n",
       "0 2021-03-17 12:24:30.829454  123  1"
      ]
     },
     "execution_count": 17,
     "metadata": {},
     "output_type": "execute_result"
    }
   ],
   "source": [
    "import pandas as pd\n",
    "import numpy as np\n",
    "\n",
    "pred = 1\n",
    "ts = pd.to_datetime('today')\n",
    "m = 123\n",
    "\n",
    "pd.DataFrame({\n",
    "    'ts': [ts],\n",
    "    'm': [m],\n",
    "    'p': [pred]\n",
    "})"
   ]
  },
  {
   "cell_type": "code",
   "execution_count": 18,
   "metadata": {},
   "outputs": [
    {
     "data": {
      "text/plain": [
       "Timestamp('2021-03-17 12:24:38.625263')"
      ]
     },
     "execution_count": 18,
     "metadata": {},
     "output_type": "execute_result"
    }
   ],
   "source": [
    "pd.to_datetime('today')"
   ]
  },
  {
   "cell_type": "code",
   "execution_count": 2,
   "metadata": {
    "scrolled": false
   },
   "outputs": [
    {
     "name": "stdout",
     "output_type": "stream",
     "text": [
      "absl-py==0.9.0\r\n",
      "aiodns==2.0.0\r\n",
      "aiohttp==3.7.4.post0\r\n",
      "asn1crypto==0.24.0\r\n",
      "astunparse==1.6.3\r\n",
      "async-timeout==3.0.1\r\n",
      "attrs==19.3.0\r\n",
      "backcall==0.2.0\r\n",
      "bleach==3.1.5\r\n",
      "cachetools==4.1.1\r\n",
      "ccxt==1.43.40\r\n",
      "certifi==2020.6.20\r\n",
      "cffi==1.14.5\r\n",
      "chardet==3.0.4\r\n",
      "cryptography==3.4.6\r\n",
      "cycler==0.10.0\r\n",
      "decorator==4.4.2\r\n",
      "defusedxml==0.6.0\r\n",
      "entrypoints==0.3\r\n",
      "gast==0.3.3\r\n",
      "google-auth==1.19.2\r\n",
      "google-auth-oauthlib==0.4.1\r\n",
      "google-pasta==0.2.0\r\n",
      "grpcio==1.30.0\r\n",
      "h5py==2.10.0\r\n",
      "idna==2.6\r\n",
      "idna-ssl==1.1.0\r\n",
      "importlib-metadata==1.7.0\r\n",
      "ipykernel==5.1.1\r\n",
      "ipython==7.16.1\r\n",
      "ipython-genutils==0.2.0\r\n",
      "ipywidgets==7.5.1\r\n",
      "jedi==0.17.2\r\n",
      "Jinja2==2.11.2\r\n",
      "joblib==0.16.0\r\n",
      "jsonschema==3.2.0\r\n",
      "jupyter==1.0.0\r\n",
      "jupyter-client==6.1.6\r\n",
      "jupyter-console==6.1.0\r\n",
      "jupyter-core==4.6.3\r\n",
      "jupyter-http-over-ws==0.0.8\r\n",
      "jupyterthemes==0.20.0\r\n",
      "Keras-Preprocessing==1.1.2\r\n",
      "keyring==10.6.0\r\n",
      "keyrings.alt==3.0\r\n",
      "kiwisolver==1.2.0\r\n",
      "lesscpy==0.14.0\r\n",
      "lightgbm==3.0.0\r\n",
      "llvmlite==0.34.0\r\n",
      "Markdown==3.2.2\r\n",
      "MarkupSafe==1.1.1\r\n",
      "matplotlib==3.3.0\r\n",
      "mistune==0.8.4\r\n",
      "multidict==5.1.0\r\n",
      "nbconvert==5.6.1\r\n",
      "nbformat==4.4.0\r\n",
      "notebook==6.0.3\r\n",
      "numba==0.51.2\r\n",
      "numpy==1.18.5\r\n",
      "oauthlib==3.1.0\r\n",
      "opt-einsum==3.3.0\r\n",
      "packaging==20.4\r\n",
      "pandas==1.1.2\r\n",
      "pandocfilters==1.4.2\r\n",
      "parso==0.7.1\r\n",
      "patsy==0.5.1\r\n",
      "pexpect==4.8.0\r\n",
      "pickleshare==0.7.5\r\n",
      "Pillow==7.2.0\r\n",
      "ply==3.11\r\n",
      "prometheus-client==0.8.0\r\n",
      "prompt-toolkit==3.0.5\r\n",
      "protobuf==3.12.2\r\n",
      "ptyprocess==0.6.0\r\n",
      "pyasn1==0.4.8\r\n",
      "pyasn1-modules==0.2.8\r\n",
      "pycares==3.1.1\r\n",
      "pycparser==2.20\r\n",
      "pycrypto==2.6.1\r\n",
      "Pygments==2.6.1\r\n",
      "pygobject==3.26.1\r\n",
      "pyparsing==2.4.7\r\n",
      "pyrsistent==0.16.0\r\n",
      "python-apt==1.6.5+ubuntu0.3\r\n",
      "python-dateutil==2.8.1\r\n",
      "pytz==2020.1\r\n",
      "pyxdg==0.25\r\n",
      "pyzmq==19.0.1\r\n",
      "qtconsole==4.7.5\r\n",
      "QtPy==1.9.0\r\n",
      "requests==2.24.0\r\n",
      "requests-oauthlib==1.3.0\r\n",
      "rsa==4.6\r\n",
      "scikit-learn==0.23.2\r\n",
      "scipy==1.4.1\r\n",
      "seaborn==0.11.0\r\n",
      "SecretStorage==2.3.1\r\n",
      "Send2Trash==1.5.0\r\n",
      "shap==0.36.0\r\n",
      "six==1.15.0\r\n",
      "sklearn==0.0\r\n",
      "slicer==0.0.4\r\n",
      "statsmodels==0.12.2\r\n",
      "tensorboard==2.3.0\r\n",
      "tensorboard-plugin-wit==1.7.0\r\n",
      "tensorflow-addons==0.11.2\r\n",
      "tensorflow-estimator==2.3.0\r\n",
      "tensorflow-gpu==2.3.0\r\n",
      "termcolor==1.1.0\r\n",
      "terminado==0.8.3\r\n",
      "testpath==0.4.4\r\n",
      "threadpoolctl==2.1.0\r\n",
      "tornado==6.0.4\r\n",
      "tqdm==4.49.0\r\n",
      "traitlets==4.3.3\r\n",
      "typeguard==2.9.1\r\n",
      "typing==3.7.4.3\r\n",
      "typing-extensions==3.7.4.3\r\n",
      "urllib3==1.25.10\r\n",
      "wcwidth==0.2.5\r\n",
      "webencodings==0.5.1\r\n",
      "Werkzeug==1.0.1\r\n",
      "widgetsnbextension==3.5.1\r\n",
      "wrapt==1.12.1\r\n",
      "yarl==1.1.0\r\n",
      "zipp==3.1.0\r\n"
     ]
    }
   ],
   "source": [
    "!pip freeze"
   ]
  },
  {
   "cell_type": "code",
   "execution_count": null,
   "metadata": {},
   "outputs": [],
   "source": []
  }
 ],
 "metadata": {
  "kernelspec": {
   "display_name": "Python 3",
   "language": "python",
   "name": "python3"
  },
  "language_info": {
   "codemirror_mode": {
    "name": "ipython",
    "version": 3
   },
   "file_extension": ".py",
   "mimetype": "text/x-python",
   "name": "python",
   "nbconvert_exporter": "python",
   "pygments_lexer": "ipython3",
   "version": "3.6.9"
  }
 },
 "nbformat": 4,
 "nbformat_minor": 2
}
